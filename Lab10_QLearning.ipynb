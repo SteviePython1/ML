{
  "cells": [
    {
      "cell_type": "code",
      "execution_count": 1,
      "metadata": {
        "id": "2yG54y-lgqkC"
      },
      "outputs": [],
      "source": [
        "# import packages\n",
        "import numpy as np\n",
        "import matplotlib.pyplot as plt\n",
        "from IPython.display import clear_output\n",
        "import time"
      ]
    },
    {
      "cell_type": "markdown",
      "metadata": {
        "id": "TLm02p4Ngz7c"
      },
      "source": [
        "# 1.) Define Enviornment"
      ]
    },
    {
      "cell_type": "code",
      "execution_count": 2,
      "metadata": {
        "id": "vew5z-tWg1QP"
      },
      "outputs": [],
      "source": [
        "grid_size = 5\n",
        "actions = ['up', 'down', 'left', 'right']\n",
        "num_actions = len(actions)\n",
        "agent_position = [0, 0]\n",
        "goal_position = [4, 4]\n",
        "\n",
        "# Rewards\n",
        "rewards = {'goal': 1, 'other': -0.01}  # Minor negative reward to encourage exploration\n",
        "\n",
        "# Initialize Q-table\n",
        "Q_table = np.zeros((grid_size, grid_size, num_actions))\n",
        "\n",
        "# Learning parameters\n",
        "learning_rate = 0.1\n",
        "discount_factor = 0.95\n",
        "episodes = 1000\n",
        "epsilon = 0.1  # Exploration rate"
      ]
    },
    {
      "cell_type": "markdown",
      "metadata": {
        "id": "_WA7feHdg7Wh"
      },
      "source": [
        "# 2.) Define Action Rewards"
      ]
    },
    {
      "cell_type": "code",
      "execution_count": 3,
      "metadata": {
        "id": "vNNf3djQg9zu"
      },
      "outputs": [],
      "source": [
        "\n",
        "# Visualization setup\n",
        "def plot_episode(steps, episode):\n",
        "    clear_output(wait=True)\n",
        "    plt.figure(figsize=(5, 5))\n",
        "    plt.title(f\"Episode: {episode}, Steps: {steps}\")\n",
        "    plt.xlim(-0.5, grid_size-0.5)\n",
        "    plt.ylim(-0.5, grid_size-0.5)\n",
        "    plt.grid()\n",
        "\n",
        "    for i in range(grid_size):\n",
        "        for j in range(grid_size):\n",
        "            if [i, j] == agent_position:\n",
        "                plt.text(j, grid_size-1-i, 'A', ha='center', va='center')\n",
        "            elif [i, j] == goal_position:\n",
        "                plt.text(j, grid_size-1-i, 'G', ha='center', va='center')\n",
        "            else:\n",
        "                plt.text(j, grid_size-1-i, '.', ha='center', va='center')\n",
        "\n",
        "    plt.show()\n",
        "\n",
        "def move_agent(agent_position, action_index):\n",
        "    if actions[action_index] == 'up' and agent_position[0] > 0:\n",
        "        agent_position[0] -= 1\n",
        "    elif actions[action_index] == 'down' and agent_position[0] < grid_size - 1:\n",
        "        agent_position[0] += 1\n",
        "    elif actions[action_index] == 'left' and agent_position[1] > 0:\n",
        "        agent_position[1] -= 1\n",
        "    elif actions[action_index] == 'right' and agent_position[1] < grid_size - 1:\n",
        "        agent_position[1] += 1\n",
        "    return agent_position\n",
        "\n",
        "def get_reward(agent_position):\n",
        "    if agent_position == goal_position:\n",
        "        return rewards['goal']\n",
        "    else:\n",
        "        return rewards['other']\n"
      ]
    },
    {
      "cell_type": "markdown",
      "metadata": {
        "id": "f-6LvbI2hBGn"
      },
      "source": [
        "# 3.) Implement Basic Q learning"
      ]
    },
    {
      "cell_type": "code",
      "execution_count": 4,
      "metadata": {
        "colab": {
          "base_uri": "https://localhost:8080/",
          "height": 662
        },
        "id": "oc6qSdJsg_Uj",
        "outputId": "990e16f0-d1af-4730-825f-f13ee6032649"
      },
      "outputs": [
        {
          "data": {
            "image/png": "[encoded data removed]",
            "text/plain": [
              "<Figure size 500x500 with 1 Axes>"
            ]
          },
          "metadata": {},
          "output_type": "display_data"
        }
      ],
      "source": [
        "\n",
        "for episode in range(episodes):\n",
        "    agent_position = [0, 0]  # Reset position at start of each episode\n",
        "    steps = 0\n",
        "\n",
        "    while agent_position != goal_position:\n",
        "        steps += 1\n",
        "        if np.random.rand() < epsilon:  # Explore\n",
        "            action = np.random.randint(num_actions)\n",
        "        else:  # Exploit\n",
        "            action = np.argmax(Q_table[agent_position[0], agent_position[1], :])\n",
        "\n",
        "        old_position = list(agent_position)\n",
        "        new_position = move_agent(list(agent_position), action)\n",
        "        reward = get_reward(new_position)\n",
        "\n",
        "        # Update Q-table\n",
        "        old_q_value = Q_table[old_position[0], old_position[1], action]\n",
        "        future_q_value = np.max(Q_table[new_position[0], new_position[1], :])\n",
        "        Q_table[old_position[0], old_position[1], action] = old_q_value + learning_rate * (reward + discount_factor * future_q_value - old_q_value)\n",
        "\n",
        "        agent_position = new_position\n",
        "\n",
        "        # Visualization every 100 episodes\n",
        "        if episode % 100 == 0:\n",
        "            plot_episode(steps, episode)\n",
        "            time.sleep(0.1)  # Slow down the visualization\n",
        "\n",
        "    if steps <= grid_size * 2:  # Early stop if it finds a reasonably good path\n",
        "        break\n"
      ]
    },
    {
      "cell_type": "code",
      "execution_count": 5,
      "metadata": {},
      "outputs": [
        {
          "data": {
            "text/plain": [
              "array([[[-0.00786139, -0.00858491, -0.00786139, -0.00853735],\n",
              "        [-0.0059255 , -0.00645625, -0.00658338, -0.00551757],\n",
              "        [-0.0039701 , -0.00388503, -0.00421068, -0.00386793],\n",
              "        [-0.00298503, -0.003705  , -0.00306197, -0.002805  ],\n",
              "        [-0.00298503, -0.002976  , -0.0030701 , -0.00388503]],\n",
              "\n",
              "       [[-0.00656156, -0.00640887, -0.00685697, -0.00658753],\n",
              "        [-0.00504263, -0.00554728, -0.0053185 , -0.00483311],\n",
              "        [-0.00307822, -0.00460995, -0.00316329, -0.00386793],\n",
              "        [-0.002976  , -0.00281403, -0.00308793, -0.0028905 ],\n",
              "        [-0.00289953, -0.001988  , -0.002166  , -0.001995  ]],\n",
              "\n",
              "       [[-0.00511299, -0.00549375, -0.00486398, -0.0049036 ],\n",
              "        [-0.00404667, -0.00453215, -0.00422618, -0.00476386],\n",
              "        [-0.00298588, -0.00345645, -0.00420126, -0.002976  ],\n",
              "        [-0.001995  , -0.002805  , -0.002166  , -0.001995  ],\n",
              "        [-0.001995  ,  0.01534   , -0.001095  , -0.001     ]],\n",
              "\n",
              "       [[-0.00503139, -0.00387605, -0.0039701 , -0.00396924],\n",
              "        [-0.00299315, -0.00379097, -0.00298503, -0.00386726],\n",
              "        [-0.00200403,  0.00411505, -0.002166  , -0.001995  ],\n",
              "        [-0.001995  , -0.0019    , -0.001095  ,  0.01615   ],\n",
              "        [-0.001     ,  0.271     , -0.001095  ,  0.        ]],\n",
              "\n",
              "       [[-0.0039701 , -0.00298503, -0.00298503, -0.00298503],\n",
              "        [-0.00298503, -0.00298503, -0.00307908, -0.002805  ],\n",
              "        [-0.00284487, -0.001995  , -0.0020805 ,  0.0732919 ],\n",
              "        [-0.001     , -0.001     , -0.001095  ,  0.40951   ],\n",
              "        [ 0.        ,  0.        ,  0.        ,  0.        ]]])"
            ]
          },
          "execution_count": 5,
          "metadata": {},
          "output_type": "execute_result"
        }
      ],
      "source": [
        "Q_table"
      ]
    },
    {
      "cell_type": "markdown",
      "metadata": {},
      "source": [
        "# 4.) Re-implement Basic Q learning"
      ]
    },
    {
      "cell_type": "code",
      "execution_count": 6,
      "metadata": {},
      "outputs": [
        {
          "data": {
            "image/png": "[encoded data removed]",
            "text/plain": [
              "<Figure size 500x500 with 1 Axes>"
            ]
          },
          "metadata": {},
          "output_type": "display_data"
        }
      ],
      "source": [
        "for episode in range(episodes):\n",
        "    agent_position = [0, 0]  # Reset position at start of each episode\n",
        "    steps = 0\n",
        "\n",
        "    while agent_position != goal_position:\n",
        "        steps += 1\n",
        "        if np.random.rand() < epsilon:  # Explore\n",
        "            action = np.random.randint(num_actions)\n",
        "        else:  # Exploit\n",
        "            action = np.argmax(Q_table[agent_position[0], agent_position[1], :])\n",
        "\n",
        "        old_position = list(agent_position)\n",
        "        new_position = move_agent(list(agent_position), action)\n",
        "        reward = get_reward(new_position)\n",
        "\n",
        "        # Update Q-table\n",
        "        old_q_value = Q_table[old_position[0], old_position[1], action]\n",
        "        future_q_value = np.max(Q_table[new_position[0], new_position[1], :])\n",
        "        Q_table[old_position[0], old_position[1], action] = old_q_value + learning_rate * (reward + discount_factor * future_q_value - old_q_value)\n",
        "\n",
        "        agent_position = new_position\n",
        "\n",
        "        # Visualization every 100 episodes\n",
        "        if episode % 100 == 0:\n",
        "            plot_episode(steps, episode)\n",
        "            time.sleep(0.1)  # Slow down the visualization\n",
        "\n",
        "    if steps <= grid_size * 2:  # Early stop if it finds a reasonably good path\n",
        "        break\n"
      ]
    },
    {
      "cell_type": "code",
      "execution_count": 7,
      "metadata": {},
      "outputs": [
        {
          "data": {
            "text/plain": [
              "array([[[-0.01261706, -0.01202794, -0.01261706, -0.01247017],\n",
              "        [-0.00882208, -0.00892304, -0.00904996, -0.00934067],\n",
              "        [-0.00689587, -0.00739065, -0.00660479, -0.00715612],\n",
              "        [-0.00495025, -0.0055091 , -0.00530363, -0.00471008],\n",
              "        [-0.0039701 , -0.00386726, -0.00414025, -0.00388503]],\n",
              "\n",
              "       [[-0.00891083, -0.00874429, -0.00878358, -0.00899308],\n",
              "        [-0.0072341 , -0.0079924 , -0.00742041, -0.00726208],\n",
              "        [-0.00623914, -0.00624274, -0.00550085, -0.00556697],\n",
              "        [-0.00404009, -0.00401655, -0.00427274, -0.00372798],\n",
              "        [-0.00289953,  0.00146364, -0.002166  , -0.001995  ]],\n",
              "\n",
              "       [[-0.00630999, -0.0063126 , -0.00583966, -0.00670252],\n",
              "        [-0.00627571, -0.00543908, -0.00532547, -0.00634153],\n",
              "        [-0.0041384 , -0.00315366, -0.00420126, -0.00386793],\n",
              "        [-0.0030701 , -0.002805  , -0.002166  ,  0.01143353],\n",
              "        [-0.001995  ,  0.13138299, -0.001095  , -0.001     ]],\n",
              "\n",
              "       [[-0.00503139, -0.0055784 , -0.00495025, -0.0048559 ],\n",
              "        [-0.00412439, -0.00467835, -0.00406368, -0.00386726],\n",
              "        [-0.00200403,  0.02332805, -0.002166  , -0.001995  ],\n",
              "        [-0.001995  , -0.0019    , -0.001095  ,  0.01615   ],\n",
              "        [-0.001     ,  0.5217031 , -0.001095  ,  0.024745  ]],\n",
              "\n",
              "       [[-0.00495017, -0.0039701 , -0.00494862, -0.00482417],\n",
              "        [-0.00397087, -0.00298503, -0.0041467 ,  0.00905714],\n",
              "        [-0.00284487, -0.001995  , -0.00254582,  0.17185518],\n",
              "        [-0.001     , -0.001     , -0.001095  ,  0.56953279],\n",
              "        [ 0.        ,  0.        ,  0.        ,  0.        ]]])"
            ]
          },
          "execution_count": 7,
          "metadata": {},
          "output_type": "execute_result"
        }
      ],
      "source": [
        "Q_table"
      ]
    }
  ],
  "metadata": {
    "colab": {
      "provenance": []
    },
    "kernelspec": {
      "display_name": "Python 3",
      "name": "python3"
    },
    "language_info": {
      "codemirror_mode": {
        "name": "ipython",
        "version": 3
      },
      "file_extension": ".py",
      "mimetype": "text/x-python",
      "name": "python",
      "nbconvert_exporter": "python",
      "pygments_lexer": "ipython3",
      "version": "3.10.11"
    }
  },
  "nbformat": 4,
  "nbformat_minor": 0
}
